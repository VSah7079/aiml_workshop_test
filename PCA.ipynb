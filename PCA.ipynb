{
  "nbformat": 4,
  "nbformat_minor": 0,
  "metadata": {
    "colab": {
      "provenance": [],
      "authorship_tag": "ABX9TyMl5JDag5/tz7cjteJVpkI3",
      "include_colab_link": true
    },
    "kernelspec": {
      "name": "python3",
      "display_name": "Python 3"
    },
    "language_info": {
      "name": "python"
    }
  },
  "cells": [
    {
      "cell_type": "markdown",
      "metadata": {
        "id": "view-in-github",
        "colab_type": "text"
      },
      "source": [
        "<a href=\"https://colab.research.google.com/github/VSah7079/aiml_workshop_test/blob/main/PCA.ipynb\" target=\"_parent\"><img src=\"https://colab.research.google.com/assets/colab-badge.svg\" alt=\"Open In Colab\"/></a>"
      ]
    },
    {
      "cell_type": "code",
      "execution_count": null,
      "metadata": {
        "id": "X-k-PqOy8BNc"
      },
      "outputs": [],
      "source": [
        "import numpy as np\n",
        "from sklearn.decomposition import PCA\n",
        "import matplotlib.pyplot as plt\n",
        "\n",
        "# Define the dataset\n",
        "X = np.array([[2.5, 2.4], [0.5, 0.7], [2.2, 2.9], [1.9, 2.2],\n",
        "              [3.1, 3.0], [2.3, 2.7], [2.0, 1.6], [1.0, 1.1],\n",
        "              [1.5, 1.6], [1.1, 0.9]])\n",
        "\n",
        "# Step 1: Standardize the data\n",
        "X_mean = np.mean(X, axis=0)\n",
        "X_centered = X - X_mean\n",
        "\n",
        "# Step 2: Apply PCA using sklearn\n",
        "pca = PCA(n_components=1)  # Reduce to 1 principal component\n",
        "X_pca = pca.fit_transform(X_centered)\n",
        "\n",
        "# Print results\n",
        "print(\"Principal Components:\\n\", pca.components_)\n",
        "print(\"Explained Variance Ratio:\\n\", pca.explained_variance_ratio_)\n",
        "\n",
        "# Plot original data and principal component\n",
        "plt.figure(figsize=(8, 6))\n",
        "plt.scatter(X[:, 0], X[:, 1], label=\"Original Data\")\n",
        "for i, (x, y) in enumerate(X):\n",
        "    plt.text(x + 0.02, y, f\"P{i+1}\")\n",
        "plt.quiver(0, 0, pca.components_[0, 0], pca.components_[0, 1], angles='xy', scale_units='xy', scale=1, color=\"r\", label=\"Principal Component\")\n",
        "plt.axhline(0, color=\"gray\", linestyle=\"--\")\n",
        "plt.axvline(0, color=\"gray\", linestyle=\"--\")\n",
        "plt.title(\"PCA on 2D Data\")\n",
        "plt.xlabel(\"Feature 1\")\n",
        "plt.ylabel(\"Feature 2\")\n",
        "plt.legend()\n",
        "plt.grid()\n",
        "plt.show()\n"
      ]
    },
    {
      "cell_type": "code",
      "source": [],
      "metadata": {
        "id": "c4iES8x18GoC"
      },
      "execution_count": null,
      "outputs": []
    }
  ]
}